{
 "cells": [
  {
   "cell_type": "code",
   "execution_count": null,
   "id": "37682f30",
   "metadata": {},
   "outputs": [],
   "source": [
    "from __future__ import print_function\n",
    "import requests\n",
    "import sys\n",
    "import time\n",
    "import urllib\n",
    "from urllib.request import urlopen\n",
    "import urllib.request\n",
    "#import simplejson\n",
    "import json\n",
    "import shutil\n",
    "import glob\n",
    "#from PIL import Image\n",
    "from pathlib import Path\n",
    "#import cv2\n",
    "#import numpy as np\n",
    "import io\n",
    "import xml.etree.ElementTree as ET\n",
    "import base64\n",
    "import pandas as pd\n",
    "import tensorflow as tf\n",
    "from datetime import datetime\n",
    "import torch\n",
    "from statistics import mean\n",
    "from sklearn.model_selection import train_test_split\n",
    "from sklearn.ensemble import RandomForestRegressor\n",
    "from sklearn.metrics import mean_squared_error\n",
    "from sklearn.metrics import mean_absolute_error\n",
    "import numpy as np\n",
    "import xgboost as xgb\n",
    "import math\n",
    "from sklearn.metrics import r2_score\n",
    "import seaborn as sns\n",
    "from sklearn.metrics import mean_squared_log_error\n",
    "from sklearn import preprocessing\n",
    "from collections import Counter\n",
    "from sklearn.metrics import classification_report, confusion_matrix"
   ]
  },
  {
   "cell_type": "markdown",
   "id": "a5544307",
   "metadata": {},
   "source": [
    "# Read data"
   ]
  },
  {
   "cell_type": "code",
   "execution_count": 2,
   "id": "478c5d91",
   "metadata": {},
   "outputs": [],
   "source": [
    "from ast import literal_eval \n",
    "processed_df = pd.read_csv('')"
   ]
  },
  {
   "cell_type": "code",
   "execution_count": null,
   "id": "473ac692",
   "metadata": {},
   "outputs": [],
   "source": [
    "print(processed_df['fwd_citation_class'])"
   ]
  },
  {
   "cell_type": "code",
   "execution_count": null,
   "id": "16e56b5c",
   "metadata": {},
   "outputs": [],
   "source": [
    "y_df = pd.DataFrame(processed_df, columns =['fwd_citation_class'])\n",
    "sns.displot(y_df, x = \"fwd_citation_class\")"
   ]
  },
  {
   "cell_type": "code",
   "execution_count": null,
   "id": "3990ec22",
   "metadata": {},
   "outputs": [],
   "source": [
    "print(processed_df.columns)"
   ]
  },
  {
   "cell_type": "code",
   "execution_count": 6,
   "id": "dade8e0d",
   "metadata": {},
   "outputs": [],
   "source": [
    "processed_df = processed_df[processed_df.ipc_tech_field_one_hot != \"0\"]\n"
   ]
  },
  {
   "cell_type": "code",
   "execution_count": null,
   "id": "cd027998",
   "metadata": {},
   "outputs": [],
   "source": [
    "Counter(processed_df['fwd_citation_class'])"
   ]
  },
  {
   "cell_type": "code",
   "execution_count": 8,
   "id": "88c917c0",
   "metadata": {},
   "outputs": [],
   "source": [
    "#processed_df[\"concat\"] = processed_df[\"concat\"].apply(lambda x: str(x.split(',')))\n",
    "processed_df[\"doc_techfield\"] = processed_df[\"doc_techfield\"].apply(lambda x: literal_eval(x))\n",
    "processed_df[\"doc_techfield\"] = processed_df[\"doc_techfield\"].apply(lambda x: np.array(x))\n"
   ]
  },
  {
   "cell_type": "code",
   "execution_count": 141,
   "id": "f6431402",
   "metadata": {},
   "outputs": [],
   "source": [
    "processed_df[\"doc_vector\"] = processed_df[\"doc_vector\"].apply(lambda x: literal_eval(x))\n",
    "processed_df[\"doc_vector\"] = processed_df[\"doc_vector\"].apply(lambda x: np.array(x))"
   ]
  },
  {
   "cell_type": "code",
   "execution_count": null,
   "id": "7ab20e78",
   "metadata": {},
   "outputs": [],
   "source": [
    "print(processed_df[\"doc_techfield\"])"
   ]
  },
  {
   "cell_type": "code",
   "execution_count": 10,
   "id": "6f396ac0",
   "metadata": {},
   "outputs": [],
   "source": [
    "shuffled_df = processed_df.sample(frac=1).reset_index(drop=True)"
   ]
  },
  {
   "cell_type": "code",
   "execution_count": null,
   "id": "b5cf8fd5",
   "metadata": {},
   "outputs": [],
   "source": [
    "X = shuffled_df[\"doc_techfield\"].to_numpy()\n",
    "X = np.vstack(X)\n",
    "print(X.shape)"
   ]
  },
  {
   "cell_type": "code",
   "execution_count": 12,
   "id": "3a7fb557",
   "metadata": {},
   "outputs": [],
   "source": [
    "y = shuffled_df[\"fwd_citation_class\"].values"
   ]
  },
  {
   "cell_type": "code",
   "execution_count": null,
   "id": "5f4abe4a",
   "metadata": {},
   "outputs": [],
   "source": [
    "print(Counter(y))"
   ]
  },
  {
   "cell_type": "code",
   "execution_count": 28,
   "id": "b3bb4376",
   "metadata": {},
   "outputs": [],
   "source": [
    "X_, X_test, y_, y_test = train_test_split(X, y, test_size=0.1, random_state=42, stratify=y)\n",
    "\n",
    "X_train, X_val, y_train, y_val = train_test_split(X_, y_, test_size=0.25, random_state=42, stratify=y_)"
   ]
  },
  {
   "cell_type": "code",
   "execution_count": null,
   "id": "2ec56252",
   "metadata": {},
   "outputs": [],
   "source": [
    "from collections import Counter\n",
    "print(Counter(y_train))\n",
    "print(Counter(y_test))"
   ]
  },
  {
   "cell_type": "markdown",
   "id": "9cf08edb",
   "metadata": {},
   "source": [
    "## TSNE"
   ]
  },
  {
   "cell_type": "code",
   "execution_count": null,
   "id": "4fb79680",
   "metadata": {},
   "outputs": [],
   "source": [
    "#umap dim reduction\n",
    "\n",
    "from sklearn.manifold import TSNE\n",
    "import matplotlib.pyplot as plt\n",
    "\n",
    "tsne = TSNE(n_components=4)\n",
    "embedding = tsne.fit_transform(X)\n",
    "#X_train, X_test, y_train, y_test = train_test_split(embedding, y, test_size=0.3, random_state=42)"
   ]
  },
  {
   "cell_type": "code",
   "execution_count": null,
   "id": "e90636cc",
   "metadata": {},
   "outputs": [],
   "source": [
    "X_, X_test, y_, y_test = train_test_split(embedding, y, test_size=0.1, random_state=42, stratify=y)\n",
    "\n",
    "X_train, X_val, y_train, y_val = train_test_split(X_, y_, test_size=0.25, random_state=42, stratify=y_)"
   ]
  },
  {
   "cell_type": "code",
   "execution_count": null,
   "id": "a257c534",
   "metadata": {},
   "outputs": [],
   "source": [
    "import numpy as np\n",
    "import matplotlib.pyplot as plt\n",
    "\n",
    "plt.figure(figsize=(8, 6))\n",
    "plt.scatter(embedding, y, s=10, color='blue')\n",
    "plt.title('2D Plot of y vs. X', fontsize=16)\n",
    "plt.xlabel('X', fontsize=14)\n",
    "plt.ylabel('y', fontsize=14)\n",
    "plt.grid(True)\n",
    "plt.show()"
   ]
  },
  {
   "cell_type": "code",
   "execution_count": null,
   "id": "f30ec277",
   "metadata": {},
   "outputs": [],
   "source": [
    "import numpy as np\n",
    "import matplotlib.pyplot as plt\n",
    "from mpl_toolkits.mplot3d import Axes3D\n",
    "\n",
    "# Create a 3D plot\n",
    "fig = plt.figure(figsize=(10, 8))\n",
    "ax = fig.add_subplot(111, projection='3d')\n",
    "\n",
    "# Plot the data points\n",
    "ax.scatter(embedding[:, 0], embedding[:, 1], y_train, c=y_train, cmap='viridis')\n",
    "\n",
    "# Set labels and title\n",
    "ax.set_xlabel('Vector Dimension 1', fontsize=12)\n",
    "ax.set_ylabel('Vector Dimension 2', fontsize=12)\n",
    "ax.set_zlabel('Dependent Variable', fontsize=12)\n",
    "ax.set_title('3D Plot with Vector Data and Dependent Variable', fontsize=14)\n",
    "\n",
    "plt.show()"
   ]
  },
  {
   "cell_type": "code",
   "execution_count": null,
   "id": "4d8b650d",
   "metadata": {},
   "outputs": [],
   "source": [
    "print(X_train.shape)\n",
    "print(X_train[0].shape)\n",
    "X_train = np.expand_dims(X_train, axis=1)\n",
    "print(X_train.shape)"
   ]
  },
  {
   "cell_type": "markdown",
   "id": "a1ad9b6c",
   "metadata": {},
   "source": [
    "# PCA"
   ]
  },
  {
   "cell_type": "code",
   "execution_count": null,
   "id": "acf5f4e8",
   "metadata": {},
   "outputs": [],
   "source": [
    "from sklearn.decomposition import PCA as sklearnPCA\n",
    "\n",
    "sklearn_pca = sklearnPCA(n_components=100)\n",
    "embedding = sklearn_pca.fit_transform(X)\n",
    "print(sklearn_pca.explained_variance_ratio_)"
   ]
  },
  {
   "cell_type": "code",
   "execution_count": null,
   "id": "3f513a04",
   "metadata": {},
   "outputs": [],
   "source": [
    "X_, X_test, y_, y_test = train_test_split(embedding, y, test_size=0.1, random_state=42, stratify=y)\n",
    "\n",
    "X_train, X_val, y_train, y_val = train_test_split(X_, y_, test_size=0.25, random_state=42, stratify=y_)"
   ]
  },
  {
   "cell_type": "markdown",
   "id": "f49c1b61",
   "metadata": {},
   "source": [
    "# Random Forest\n",
    "\n",
    "base - n_estimators = 100, max_depth = 2, acc = 0.56\n"
   ]
  },
  {
   "cell_type": "code",
   "execution_count": null,
   "id": "80f2dd19",
   "metadata": {},
   "outputs": [],
   "source": [
    "from sklearn.metrics import classification_report, confusion_matrix\n",
    "from sklearn.ensemble import RandomForestClassifier\n",
    "\n",
    "#hyperparameters\n",
    "n_estimators = 100\n",
    "max_depth = 2\n",
    "\n",
    "clf = RandomForestClassifier(n_estimators= n_estimators, max_depth= max_depth, random_state=42)\n",
    "clf.fit(X_train, y_train)\n",
    "predictions = clf.predict(X_test)\n",
    "print(predictions)"
   ]
  },
  {
   "cell_type": "code",
   "execution_count": null,
   "id": "4172801b",
   "metadata": {},
   "outputs": [],
   "source": [
    "print(classification_report(y_test, predictions))\n",
    "print(confusion_matrix(y_test, predictions))"
   ]
  },
  {
   "cell_type": "markdown",
   "id": "ea6b2595",
   "metadata": {},
   "source": [
    "# XGBoost\n",
    "\n",
    "base - 0.66"
   ]
  },
  {
   "cell_type": "code",
   "execution_count": null,
   "id": "e93231bc",
   "metadata": {},
   "outputs": [],
   "source": [
    "# encoding y\n",
    "\n",
    "from sklearn.preprocessing import LabelEncoder\n",
    "le = LabelEncoder()\n",
    "y_train = le.fit_transform(y_train)"
   ]
  },
  {
   "cell_type": "code",
   "execution_count": null,
   "id": "e68f01b7",
   "metadata": {},
   "outputs": [],
   "source": [
    "#xgboost\n",
    "learning_rate = 0.05\n",
    "model = xgb.XGBClassifier()\n",
    "'''\n",
    "    objective='multi:softprob',\n",
    "    num_class=7,      \n",
    "    max_depth=max_depth,       \n",
    "    learning_rate=learning_rate,\n",
    "    #subsample=subsample,        \n",
    "    #colsample_bytree=colsample, \n",
    "    n_estimators=n_estimators\n",
    ")\n",
    "'''\n",
    "model.fit(X_train, y_train)\n",
    "predictions = model.predict(X_test)\n",
    "# inverse transform predictions\n",
    "predictions = le.inverse_transform(predictions)\n",
    "\n",
    "print(classification_report(y_test, predictions))\n",
    "print(confusion_matrix(y_test, predictions))"
   ]
  },
  {
   "cell_type": "code",
   "execution_count": null,
   "id": "7a31c730",
   "metadata": {},
   "outputs": [],
   "source": [
    "print(Counter(y_test))"
   ]
  },
  {
   "cell_type": "code",
   "execution_count": null,
   "id": "3d0af09a",
   "metadata": {},
   "outputs": [],
   "source": [
    "from sklearn.model_selection import GridSearchCV\n",
    "from sklearn.model_selection import RandomizedSearchCV\n",
    "import scipy.stats as stats\n",
    "\n",
    "#hyperparameter distributions\n",
    "param_dist = {\n",
    "    'max_depth': stats.randint(3, 10),\n",
    "    'eta': stats.uniform(0.01, 0.1),\n",
    "    'subsample': stats.uniform(0.5, 0.5),\n",
    "    'n_estimators':stats.randint(50, 200)\n",
    "}\n",
    "\n",
    "# XGBoost model object\n",
    "xgb_model = xgb.XGBClassifier()\n",
    "#grid_search = GridSearchCV(xgb_model, param_grid, cv=5, scoring='accuracy')\n",
    "random_search = RandomizedSearchCV(xgb_model, param_distributions=param_dist, n_iter=10, cv=5)\n",
    "\n",
    "\n",
    "# Fit the GridSearchCV object to the training data\n",
    "random_search.fit(X_train, y_train)\n",
    "\n",
    "# Print the best set of hyperparameters and the corresponding score\n",
    "print(\"Best set of hyperparameters: \", random_search.best_params_)\n",
    "print(\"Best score: \", random_search.best_score_)"
   ]
  },
  {
   "cell_type": "code",
   "execution_count": null,
   "id": "1c816da3",
   "metadata": {},
   "outputs": [],
   "source": [
    "import matplotlib.pyplot as plt\n",
    "from sklearn.metrics import classification_report, confusion_matrix\n",
    "\n",
    "model = xgb.XGBClassifier(learning_rate = random_search.best_params_[\"eta\"],\n",
    "                        max_depth  = random_search.best_params_[\"max_depth\"],\n",
    "                        subsample = random_search.best_params_[\"subsample\"],\n",
    "                        n_estimators = random_search.best_params_[\"n_estimators\"])\n",
    "model.fit(X_train, y_train)\n",
    "predictions = model.predict(X_test)\n",
    "\n",
    "# inverse transform predictions\n",
    "predictions = le.inverse_transform(predictions)\n",
    "\n",
    "print(classification_report(y_test, predictions))\n",
    "print(confusion_matrix(y_test, predictions))"
   ]
  },
  {
   "cell_type": "code",
   "execution_count": null,
   "id": "9bfef2d9",
   "metadata": {},
   "outputs": [],
   "source": [
    "# Plot the results\n",
    "idx = [ i for i in range(10381)]\n",
    "plt.plot(idx, y_test, color='blue', label='Actual')\n",
    "plt.plot(idx, predictions, color='red', label='Predicted')\n",
    "plt.title('XG Boost Regression')\n",
    "plt.xlabel('Input feature')\n",
    "plt.ylabel('Target variable')\n",
    "plt.legend()\n",
    "plt.show()"
   ]
  },
  {
   "cell_type": "code",
   "execution_count": null,
   "id": "17156c0a",
   "metadata": {},
   "outputs": [],
   "source": [
    "print(np.mean(y_test))\n",
    "print(np.std(y_test))\n",
    "print(np.var(y_test))\n",
    "\n",
    "print(\"\\n\\n\")\n",
    "\n",
    "print(np.mean(predictions))\n",
    "print(np.std(predictions))\n",
    "print(np.var(predictions))"
   ]
  },
  {
   "cell_type": "markdown",
   "id": "31955067",
   "metadata": {},
   "source": [
    "### SVM"
   ]
  },
  {
   "cell_type": "code",
   "execution_count": null,
   "id": "0446c0a6",
   "metadata": {},
   "outputs": [],
   "source": [
    "from sklearn.svm import SVR\n",
    "import matplotlib.pyplot as plt\n",
    "\n",
    "svm_regressor = SVR(kernel='poly', C=10, gamma='scale')  #RBF kernel for non-linear regression\n",
    "svm_regressor.fit(X_train, y_train)\n",
    "\n",
    "predictions = svm_regressor.predict(X_test)\n",
    "\n",
    "#Calculate Mean Squared Error (MSE) as a performance metric\n",
    "mse = mean_squared_error(y_test, predictions)\n",
    "print(\"Mean Squared Error:\", mse)"
   ]
  },
  {
   "cell_type": "code",
   "execution_count": null,
   "id": "52c60080",
   "metadata": {},
   "outputs": [],
   "source": [
    "# Calculate R-squared value\n",
    "r2 = r2_score(y_test, predictions)\n",
    "print(\"R-squared svm regressor\", r2)\n",
    "\n",
    "print(\"Root Mean Squared Error:\", mse**0.5)\n",
    "\n",
    "print(np.mean(y_test))\n",
    "print(np.std(y_test))\n",
    "print(np.var(y_test))\n",
    "\n",
    "print(\"\\n\\n\")\n",
    "\n",
    "print(np.mean(predictions))\n",
    "print(np.std(predictions))\n",
    "print(np.var(predictions))"
   ]
  },
  {
   "cell_type": "code",
   "execution_count": null,
   "id": "e4683b60",
   "metadata": {},
   "outputs": [],
   "source": [
    "from sklearn.metrics import mean_absolute_error\n",
    "mae = mean_absolute_error(y_test, predictions)\n",
    "print(mae)"
   ]
  },
  {
   "cell_type": "code",
   "execution_count": null,
   "id": "ff0eded3",
   "metadata": {},
   "outputs": [],
   "source": [
    "from sklearn.model_selection import GridSearchCV\n",
    "from sklearn.svm import SVR\n",
    "import matplotlib.pyplot as plt\n",
    "\n",
    "param_grid = {'C': [0.1,1, 10, 100], 'gamma': [1,0.1,0.01,0.001],'kernel': ['rbf', 'poly', 'sigmoid']}\n",
    "grid = GridSearchCV(SVR(),param_grid,refit=True,verbose=2)\n",
    "grid.fit(X_train,y_train)\n",
    "\n",
    "print(grid.best_estimator_)\n",
    "\n",
    "predictions = grid.predict(X_test)\n",
    "#Calculate Mean Squared Error (MSE) as a performance metric\n",
    "mse = mean_squared_error(y_test, predictions)\n",
    "print(\"Root Mean Squared Error:\", mse**0.5)"
   ]
  },
  {
   "cell_type": "code",
   "execution_count": null,
   "id": "2fa338f2",
   "metadata": {},
   "outputs": [],
   "source": [
    "from sklearn.metrics import r2_score\n",
    "\n",
    "# Calculate R-squared value\n",
    "r2 = r2_score(y_test, predictions)\n",
    "print(\"R-squared svm regressor\", r2)\n",
    "\n",
    "# Plot the results\n",
    "idx = [ i for i in range(31142)]\n",
    "plt.scatter(idx, y_test, color='blue', label='Actual')\n",
    "plt.scatter(idx, predictions, color='red', label='Predicted')\n",
    "plt.title('Support Vector Machine (SVM) Regression')\n",
    "plt.xlabel('Input feature')\n",
    "plt.ylabel('Target variable')\n",
    "plt.legend()\n",
    "plt.show()"
   ]
  },
  {
   "cell_type": "code",
   "execution_count": null,
   "id": "4276bf10",
   "metadata": {},
   "outputs": [],
   "source": [
    "#Artificial Neural Network\n",
    "from keras.optimizers import Adam\n",
    "from matplotlib import pyplot\n",
    "from keras.callbacks import EarlyStopping\n",
    "from keras.utils import to_categorical\n",
    "from sklearn.preprocessing import LabelEncoder\n",
    "from sklearn.preprocessing import OneHotEncoder\n",
    "\n",
    "train = X_train\n",
    "train= np.reshape(train,(train.shape[0], 1, train.shape[1]))\n",
    "val=X_val\n",
    "val= np.reshape(X_val,(X_val.shape[0], 1, X_val.shape[1]))\n",
    "\n",
    "le = LabelEncoder()\n",
    "y_train = le.fit_transform(y_train)\n",
    "y_val = le.fit_transform(y_val)\n",
    "target = to_categorical(np.array(y_train))\n",
    "val_target = to_categorical(np.array(y_val), num_classes=5)\n",
    "\n",
    "'''\n",
    "ohe = OneHotEncoder()\n",
    "ohe.fit(y_train.reshape(-1, 1))\n",
    "target = ohe.transform(y_train.reshape(-1, 1)).toarray()\n",
    "\n",
    "ohe.fit(y_test.reshape(-1, 1))\n",
    "val_target = ohe.transform(y_val.reshape(-1, 1)).toarray()\n",
    "\n",
    "ohe.fit(y_test.reshape(-1, 1))\n",
    "test_target = ohe.transform(y_test.reshape(-1, 1)).toarray()\n",
    "'''\n",
    "\n",
    "\n",
    "test = X_test\n",
    "test= np.reshape(test,(test.shape[0], 1, test.shape[1]))\n",
    "\n",
    "\n",
    "NN_model = tf.keras.Sequential()\n",
    "#NN_model.add(tf.keras.layers.Dense(64, kernel_initializer='normal',input_dim = train.shape[1], activation='relu'))\n",
    "#NN_model.add(tf.keras.layers.Dropout(0.25))\n",
    "#NN_model.add(tf.keras.layers.Dense(256, kernel_initializer='normal', input_dim = train.shape[1], activation='relu'))\n",
    "#NN_model.add(tf.keras.layers.Dropout(0.5, input_dim = train.shape[1]))\n",
    "#NN_model.add(tf.keras.layers.Dense(256, kernel_initializer='normal', input_dim = train.shape[1], activation='relu'))\n",
    "NN_model.add(tf.keras.layers.GRU(256, return_sequences=True))#, recurrent_dropout=0.25, dropout=0.25))\n",
    "NN_model.add(tf.keras.layers.Dropout(0.25))\n",
    "NN_model.add(tf.keras.layers.GRU(128, return_sequences=True))\n",
    "#NN_model.add(tf.keras.layers.Dropout(0.5))\n",
    "NN_model.add(tf.keras.layers.GRU(64, return_sequences=True))\n",
    "#NN_model.add(tf.keras.layers.Dense(64, kernel_initializer='normal', activation='relu'))\n",
    "#NN_model.add(tf.keras.layers.Dropout(0.25))\n",
    "\n",
    "NN_model.add(tf.keras.layers.GRU(32))\n",
    "#NN_model.add(tf.keras.layers.Dense(32, kernel_initializer='normal',activation='relu'))\n",
    "#NN_model.add(tf.keras.layers.Dropout(0.25))\n",
    "NN_model.add(tf.keras.layers.Dense(8, kernel_initializer='normal',activation='relu'))\n",
    "NN_model.add(tf.keras.layers.Dense(5, kernel_initializer='normal',activation='softmax'))\n",
    "NN_model.compile(loss='categorical_crossentropy', optimizer=Adam(lr=1e-3), metrics=['accuracy'])\n",
    "#print(NN_model.summary())\n",
    "\n",
    "checkpoint_name = 'doc-tech-field-concat-GRU-256-0.25-128-64-32-dense-8-5-cce-{epoch:03d}--{val_loss:.5f}.hdf5'\n",
    "es = EarlyStopping(monitor='val_loss', mode='min', verbose=1, patience=25)\n",
    "checkpoint = tf.keras.callbacks.ModelCheckpoint(checkpoint_name, monitor='val_loss', verbose = 1, save_best_only = True, mode ='auto')\n",
    "callbacks_list = [checkpoint, es]\n",
    "history = NN_model.fit(train, target, epochs=1000, batch_size=32, callbacks=callbacks_list, validation_data=(val, val_target))\n",
    "print(history)\n",
    "print(NN_model)\n",
    "predictions = NN_model.predict(test)"
   ]
  },
  {
   "cell_type": "code",
   "execution_count": null,
   "id": "df522c71",
   "metadata": {},
   "outputs": [],
   "source": [
    "print(history.history.keys())"
   ]
  },
  {
   "cell_type": "code",
   "execution_count": null,
   "id": "dd7a602c",
   "metadata": {},
   "outputs": [],
   "source": [
    "pyplot.plot(history.history['loss'], label='train')\n",
    "pyplot.plot(history.history['val_loss'], label='val')\n",
    "pyplot.legend()\n",
    "pyplot.show()"
   ]
  },
  {
   "cell_type": "code",
   "execution_count": null,
   "id": "e13d638e",
   "metadata": {},
   "outputs": [],
   "source": [
    "pyplot.plot(history.history['accuracy'], label='train')\n",
    "pyplot.plot(history.history['val_accuracy'], label='val')\n",
    "pyplot.legend()\n",
    "pyplot.show()"
   ]
  },
  {
   "cell_type": "code",
   "execution_count": null,
   "id": "324ca5ab",
   "metadata": {},
   "outputs": [],
   "source": [
    "# Plot the results\n",
    "idx = [ i for i in range(31142)]\n",
    "plt.scatter(idx, y_test, color='blue', label='Actual')\n",
    "plt.scatter(idx, predictions, color='red', label='Predicted')\n",
    "plt.title('NN')\n",
    "plt.xlabel('Input feature')\n",
    "plt.ylabel('Target variable')\n",
    "plt.legend()\n",
    "plt.show()"
   ]
  },
  {
   "cell_type": "code",
   "execution_count": null,
   "id": "5e27c6c5",
   "metadata": {},
   "outputs": [],
   "source": [
    "plt.plot(y_test[:100], color='blue', linestyle = 'dotted')\n",
    "plt.plot(predictions[:100], color='red', linestyle = 'dotted')\n",
    "plt.show()"
   ]
  },
  {
   "cell_type": "code",
   "execution_count": null,
   "id": "f45fff58",
   "metadata": {},
   "outputs": [],
   "source": []
  }
 ],
 "metadata": {
  "kernelspec": {
   "display_name": "base",
   "language": "python",
   "name": "python3"
  },
  "language_info": {
   "codemirror_mode": {
    "name": "ipython",
    "version": 3
   },
   "file_extension": ".py",
   "mimetype": "text/x-python",
   "name": "python",
   "nbconvert_exporter": "python",
   "pygments_lexer": "ipython3",
   "version": "3.11.4"
  }
 },
 "nbformat": 4,
 "nbformat_minor": 5
}
